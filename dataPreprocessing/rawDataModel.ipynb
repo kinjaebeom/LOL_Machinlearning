{
 "cells": [
  {
   "cell_type": "code",
   "execution_count": 80,
   "metadata": {},
   "outputs": [],
   "source": [
    "import pandas as pd\n",
    "from sklearn.model_selection import train_test_split\n",
    "import numpy as np\n",
    "from sklearn.ensemble import RandomForestClassifier\n",
    "from sklearn.ensemble import ExtraTreesClassifier\n",
    "from lightgbm import LGBMClassifier\n",
    "from sklearn.metrics import accuracy_score # 정확도 함수\n",
    "from catboost import CatBoostClassifier\n",
    "from sklearn.metrics import f1_score\n",
    "from sklearn.metrics import confusion_matrix\n",
    "import matplotlib.pyplot as plt\n",
    "import seaborn as sns\n",
    "from sklearn.model_selection import KFold\n",
    "from sklearn.model_selection import cross_val_score\n",
    "import csv\n",
    "from sklearn.metrics import roc_auc_score\n",
    "from datetime import datetime\n",
    "import sys\n",
    "import os\n"
   ]
  },
  {
   "cell_type": "code",
   "execution_count": 81,
   "metadata": {},
   "outputs": [],
   "source": [
    "tier = 'GRANDMASTER'\n",
    "min = '10'\n",
    "df = pd.read_csv(f'../Dataset/perMinuteDataset/{min}min/{tier}.csv')"
   ]
  },
  {
   "cell_type": "code",
   "execution_count": 82,
   "metadata": {},
   "outputs": [],
   "source": [
    "def mergeCol(win_df, lose_df, colName):\n",
    "    win_df[colName] = (win_df[f'{colName}_ad']+win_df[f'{colName}_top']+win_df[f'{colName}_jgl']+win_df[f'{colName}_mid']+win_df[f'{colName}_sup'])\n",
    "    lose_df[colName] = (lose_df[f'{colName}_ad']+lose_df[f'{colName}_top']+lose_df[f'{colName}_jgl']+lose_df[f'{colName}_mid']+lose_df[f'{colName}_sup'])\n",
    "    win_df= win_df.drop([f'{colName}_ad', f'{colName}_top', f'{colName}_jgl', f'{colName}_mid', f'{colName}_sup'],axis=1)\n",
    "    lose_df= lose_df.drop([f'{colName}_ad', f'{colName}_top', f'{colName}_jgl', f'{colName}_mid', f'{colName}_sup'],axis=1)\n",
    "    return win_df, lose_df\n",
    "\n",
    "def mulMinus1(win_df, lose_df, colName):\n",
    "    win_df[f'Diff_{colName}'] = win_df[colName]-lose_df[colName]\n",
    "    lose_df[f'Diff_{colName}'] = win_df[f'Diff_{colName}'] * -1\n",
    "    win_df = win_df.drop([colName], axis=1)\n",
    "    lose_df = lose_df.drop([colName], axis=1)\n",
    "    return win_df, lose_df\n",
    "\n",
    "def remove_outlier(input_data):\n",
    "    q1 = input_data.quantile(0.25) # 제 1사분위수\n",
    "    q3 = input_data.quantile(0.75) # 제 3사분위수\n",
    "    iqr = q3 - q1 # IQR(Interquartile range) 계산\n",
    "    minimum = q1 - (iqr * 1.5) # IQR 최솟값\n",
    "    maximum = q3 + (iqr * 1.5) # IQR 최댓값\n",
    "    # IQR 범위 내에 있는 데이터만 산출(IQR 범위 밖의 데이터는 이상치)\n",
    "    df_removed_outlier = input_data[(minimum < input_data) & (input_data < maximum)]\n",
    "    return df_removed_outlier"
   ]
  },
  {
   "cell_type": "code",
   "execution_count": 83,
   "metadata": {},
   "outputs": [],
   "source": [
    "win_df = df[['Diff_FirstBLOOD', 'Diff_FirstDRAGON',\n",
    "        'dragonType', 'WIN_controlWARDPlaced', 'WIN_WARDplaced',\n",
    "        'WIN_Kill_top', 'WIN_Kill_jgl', 'WIN_Kill_mid', 'WIN_Kill_ad', 'WIN_Kill_sup',\n",
    "        'WIN_Death_top', 'WIN_Death_jgl', 'WIN_Death_mid', 'WIN_Death_ad', 'WIN_Death_sup', \n",
    "        'WIN_Asisst_top', 'WIN_Asisst_jgl', 'WIN_Asisst_mid', 'WIN_Asisst_ad', 'WIN_Asisst_sup',\n",
    "        'WIN_LV_top', 'WIN_LV_jgl', 'WIN_LV_mid', 'WIN_LV_ad', 'WIN_LV_sup',\n",
    "        'WIN_CS_top', 'WIN_CS_jgl', 'WIN_CS_mid', 'WIN_CS_ad', 'WIN_CS_sup',\n",
    "        'WIN_jglCS_top', 'WIN_jglCS_jgl', 'WIN_jglCS_mid', 'WIN_jglCS_ad', 'WIN_jglCS_sup',\n",
    "        'WIN_WARDkill']]\n",
    "lose_df = df[['Diff_FirstBLOOD', 'Diff_FirstDRAGON',\n",
    "        'dragonType', 'LOSE_controlWARDPlaced', 'LOSE_WARDplaced',\n",
    "        'LOSE_Kill_top', 'LOSE_Kill_jgl', 'LOSE_Kill_mid', 'LOSE_Kill_ad', 'LOSE_Kill_sup',\n",
    "        'LOSE_Death_top', 'LOSE_Death_jgl', 'LOSE_Death_mid', 'LOSE_Death_ad', 'LOSE_Death_sup',\n",
    "        'LOSE_Asisst_top', 'LOSE_Asisst_jgl', 'LOSE_Asisst_mid', 'LOSE_Asisst_ad', 'LOSE_Asisst_sup',\n",
    "        'LOSE_LV_top', 'LOSE_LV_jgl', 'LOSE_LV_mid', 'LOSE_LV_ad', 'LOSE_LV_sup',\n",
    "        'LOSE_CS_top', 'LOSE_CS_jgl', 'LOSE_CS_mid', 'LOSE_CS_ad', 'LOSE_CS_sup',\n",
    "        'LOSE_jglCS_top', 'LOSE_jglCS_jgl', 'LOSE_jglCS_mid', 'LOSE_jglCS_ad', 'LOSE_jglCS_sup',\n",
    "        'LOSE_WARDkill']]"
   ]
  },
  {
   "cell_type": "code",
   "execution_count": 84,
   "metadata": {},
   "outputs": [],
   "source": [
    "colName = 'WIN'\n",
    "win_df = win_df.rename(columns={f'{colName}_controlWARDPlaced': 'controlWARDPlaced', \n",
    "                                                f'{colName}_Kill_top': 'Kill_top',f'{colName}_Kill_jgl': 'Kill_jgl',f'{colName}_Kill_mid': 'Kill_mid',f'{colName}_Kill_ad': 'Kill_ad', f'{colName}_Kill_sup': 'Kill_sup',\n",
    "                                                f'{colName}_Death_top': 'Death_top',f'{colName}_Death_jgl': 'Death_jgl',f'{colName}_Death_mid': 'Death_mid',f'{colName}_Death_ad': 'Death_ad',f'{colName}_Death_sup': 'Death_sup',\n",
    "                                                f'{colName}_Asisst_top': 'Asisst_top',f'{colName}_Asisst_jgl': 'Asisst_jgl',f'{colName}_Asisst_mid': 'Asisst_mid',f'{colName}_Asisst_ad': 'Asisst_ad',f'{colName}_Asisst_sup': 'Asisst_sup',\n",
    "                                                f'{colName}_LV_top': 'LV_top',f'{colName}_LV_jgl': 'LV_jgl',f'{colName}_LV_mid': 'LV_mid',f'{colName}_LV_ad': 'LV_ad',f'{colName}_LV_sup': 'LV_sup',\n",
    "                                                f'{colName}_CS_top': 'CS_top',f'{colName}_CS_jgl': 'CS_jgl',f'{colName}_CS_mid': 'CS_mid',f'{colName}_CS_ad': 'CS_ad',f'{colName}_CS_sup': 'CS_sup',\n",
    "                                                f'{colName}_jglCS_top': 'jglCS_top',f'{colName}_jglCS_jgl': 'jglCS_jgl',f'{colName}_jglCS_mid': 'jglCS_mid',f'{colName}_jglCS_ad': 'jglCS_ad',f'{colName}_jglCS_sup': 'jglCS_sup',\n",
    "                                                f'{colName}_WARDplaced': 'WARDplaced', f'{colName}_WARDkill': 'WARDkill'})\n",
    "\n",
    "colName = 'LOSE'\n",
    "lose_df = lose_df.rename(columns={f'{colName}_controlWARDPlaced': 'controlWARDPlaced',\n",
    "                                                f'{colName}_Kill_top': 'Kill_top',f'{colName}_Kill_jgl': 'Kill_jgl',f'{colName}_Kill_mid': 'Kill_mid',f'{colName}_Kill_ad': 'Kill_ad', f'{colName}_Kill_sup': 'Kill_sup',\n",
    "                                                f'{colName}_Death_top': 'Death_top',f'{colName}_Death_jgl': 'Death_jgl',f'{colName}_Death_mid': 'Death_mid',f'{colName}_Death_ad': 'Death_ad',f'{colName}_Death_sup': 'Death_sup',\n",
    "                                                f'{colName}_Asisst_top': 'Asisst_top',f'{colName}_Asisst_jgl': 'Asisst_jgl',f'{colName}_Asisst_mid': 'Asisst_mid',f'{colName}_Asisst_ad': 'Asisst_ad',f'{colName}_Asisst_sup': 'Asisst_sup',\n",
    "                                                f'{colName}_LV_top': 'LV_top',f'{colName}_LV_jgl': 'LV_jgl',f'{colName}_LV_mid': 'LV_mid',f'{colName}_LV_ad': 'LV_ad',f'{colName}_LV_sup': 'LV_sup',\n",
    "                                                f'{colName}_CS_top': 'CS_top',f'{colName}_CS_jgl': 'CS_jgl',f'{colName}_CS_mid': 'CS_mid',f'{colName}_CS_ad': 'CS_ad',f'{colName}_CS_sup': 'CS_sup',\n",
    "                                                f'{colName}_jglCS_top': 'jglCS_top',f'{colName}_jglCS_jgl': 'jglCS_jgl',f'{colName}_jglCS_mid': 'jglCS_mid',f'{colName}_jglCS_ad': 'jglCS_ad',f'{colName}_jglCS_sup': 'jglCS_sup',\n",
    "                                                f'{colName}_WARDplaced': 'WARDplaced', f'{colName}_WARDkill': 'WARDkill'})"
   ]
  },
  {
   "cell_type": "code",
   "execution_count": 85,
   "metadata": {},
   "outputs": [],
   "source": [
    "win_df, lose_df = mergeCol(win_df, lose_df, 'Kill')\n",
    "win_df, lose_df = mergeCol(win_df, lose_df, 'Asisst')\n",
    "win_df, lose_df = mergeCol(win_df, lose_df, 'LV')\n",
    "win_df, lose_df = mergeCol(win_df, lose_df, 'CS')\n",
    "win_df, lose_df = mergeCol(win_df, lose_df, 'Death')\n",
    "win_df, lose_df = mergeCol(win_df, lose_df, 'jglCS')\n",
    "\n",
    "win_df, lose_df = mulMinus1(win_df, lose_df, 'Kill')\n",
    "win_df, lose_df = mulMinus1(win_df, lose_df, 'Asisst')\n",
    "win_df, lose_df = mulMinus1(win_df, lose_df, 'LV')\n",
    "win_df, lose_df = mulMinus1(win_df, lose_df, 'CS')\n",
    "win_df, lose_df = mulMinus1(win_df, lose_df, 'Death')\n",
    "win_df, lose_df = mulMinus1(win_df, lose_df, 'WARDplaced')\n",
    "win_df, lose_df = mulMinus1(win_df, lose_df, 'WARDkill')\n",
    "win_df, lose_df = mulMinus1(win_df, lose_df, 'controlWARDPlaced')\n",
    "win_df, lose_df = mulMinus1(win_df, lose_df, 'jglCS')\n",
    "\n",
    "lose_df['Diff_FirstBLOOD'] = win_df['Diff_FirstBLOOD']*-1\n",
    "lose_df['Diff_FirstDRAGON'] = win_df['Diff_FirstDRAGON']*-1"
   ]
  },
  {
   "cell_type": "code",
   "execution_count": 86,
   "metadata": {},
   "outputs": [],
   "source": [
    "win_prep = remove_outlier(win_df)\n",
    "win_prep.dropna(axis = 0, how = 'any', inplace = True)\n",
    "lose_prep = remove_outlier(lose_df)\n",
    "lose_prep.dropna(axis = 0, how = 'any', inplace = True)"
   ]
  },
  {
   "cell_type": "code",
   "execution_count": 87,
   "metadata": {},
   "outputs": [],
   "source": [
    "win_prep['FirstDragon_AIR_DRAGON'] = np.where((win_prep['Diff_FirstDRAGON'] == 1) & (win_prep['dragonType'] == 1), 1, 0)\n",
    "win_prep['FirstDragon_EARTH_DRAGON'] = np.where((win_prep['Diff_FirstDRAGON'] == 1) & (win_prep['dragonType'] == 2), 1, 0)\n",
    "win_prep['FirstDragon_FIRE_DRAGON'] = np.where((win_prep['Diff_FirstDRAGON'] == 1) & (win_prep['dragonType'] == 3), 1, 0)\n",
    "win_prep['FirstDragon_WATER_DRAGON'] = np.where((win_prep['Diff_FirstDRAGON'] == 1) & (win_prep['dragonType'] == 4), 1, 0)\n",
    "win_prep['FirstDragon_HEXTECH_DRAGON'] = np.where((win_prep['Diff_FirstDRAGON'] == 1) & (win_prep['dragonType'] == 5), 1, 0)\n",
    "win_prep['FirstDragon_CHEMTECH_DRAGON'] = np.where((win_prep['Diff_FirstDRAGON'] == 1) & (win_prep['dragonType'] == 6), 1, 0)\n",
    "lose_prep['FirstDragon_AIR_DRAGON'] = np.where((lose_prep['Diff_FirstDRAGON'] == 1) & (lose_prep['dragonType'] == 1), 1, 0)\n",
    "lose_prep['FirstDragon_EARTH_DRAGON'] = np.where((lose_prep['Diff_FirstDRAGON'] == 1) & (lose_prep['dragonType'] == 2), 1, 0)\n",
    "lose_prep['FirstDragon_FIRE_DRAGON'] = np.where((lose_prep['Diff_FirstDRAGON'] == 1) & (lose_prep['dragonType'] == 3), 1, 0)\n",
    "lose_prep['FirstDragon_WATER_DRAGON'] = np.where((lose_prep['Diff_FirstDRAGON'] == 1) & (lose_prep['dragonType'] == 4), 1, 0)\n",
    "lose_prep['FirstDragon_HEXTECH_DRAGON'] = np.where((lose_prep['Diff_FirstDRAGON'] == 1) & (lose_prep['dragonType'] == 5), 1, 0)\n",
    "lose_prep['FirstDragon_CHEMTECH_DRAGON'] = np.where((lose_prep['Diff_FirstDRAGON'] == 1) & (lose_prep['dragonType'] == 6), 1, 0)\n",
    "\n",
    "win_prep['result'] = 1\n",
    "lose_prep['result'] = 0"
   ]
  },
  {
   "cell_type": "code",
   "execution_count": 88,
   "metadata": {},
   "outputs": [
    {
     "name": "stdout",
     "output_type": "stream",
     "text": [
      "Total data size of GRANDMASTER = 17422\n"
     ]
    }
   ],
   "source": [
    "data = pd.concat([win_prep, lose_prep], axis=0)\n",
    "data = data.drop(['dragonType'], axis=1)\n",
    "print('Total data size of ' + tier + ' =', data.shape[0])"
   ]
  },
  {
   "cell_type": "code",
   "execution_count": 97,
   "metadata": {},
   "outputs": [
    {
     "data": {
      "text/plain": [
       "Index(['Diff_FirstBLOOD', 'Diff_FirstDRAGON', 'Diff_Kill', 'Diff_Asisst',\n",
       "       'Diff_LV', 'Diff_CS', 'Diff_Death', 'Diff_WARDplaced', 'Diff_WARDkill',\n",
       "       'Diff_controlWARDPlaced', 'Diff_jglCS', 'FirstDragon_AIR_DRAGON',\n",
       "       'FirstDragon_EARTH_DRAGON', 'FirstDragon_FIRE_DRAGON',\n",
       "       'FirstDragon_WATER_DRAGON', 'FirstDragon_HEXTECH_DRAGON',\n",
       "       'FirstDragon_CHEMTECH_DRAGON', 'result'],\n",
       "      dtype='object')"
      ]
     },
     "execution_count": 97,
     "metadata": {},
     "output_type": "execute_result"
    }
   ],
   "source": [
    "data.columns"
   ]
  },
  {
   "cell_type": "code",
   "execution_count": 89,
   "metadata": {},
   "outputs": [],
   "source": [
    "rf = RandomForestClassifier(max_features='sqrt', max_leaf_nodes=200, random_state=10)\n",
    "    # 라이트지비엠\n",
    "lgbm = LGBMClassifier(n_estimators=100, max_depth=12, num_leaves=25, verbosity=0, min_child_samples=30, random_state=10)\n",
    "# 캣부스트\n",
    "cat = CatBoostClassifier(iterations=200, depth=7, learning_rate=0.1, l2_leaf_reg=40, verbose=0, random_state=10)\n",
    "# 엑스트라트리\n",
    "et = ExtraTreesClassifier(max_depth=7, max_features=None, random_state=10)\n",
    "# rf = RandomForestClassifier()\n",
    "# # 라이트지비엠\n",
    "# lgbm = LGBMClassifier(verbosity=0)\n",
    "# # 캣부스트\n",
    "# cat = CatBoostClassifier(verbose=0)\n",
    "# # 엑스트라트리\n",
    "# et = ExtraTreesClassifier()"
   ]
  },
  {
   "cell_type": "code",
   "execution_count": 90,
   "metadata": {},
   "outputs": [
    {
     "name": "stdout",
     "output_type": "stream",
     "text": [
      "18\n"
     ]
    }
   ],
   "source": [
    "colCnt = data.shape[1]\n",
    "print(colCnt)\n",
    "X = data[data.columns.difference(['result'])]\n",
    "y = data['result']"
   ]
  },
  {
   "attachments": {},
   "cell_type": "markdown",
   "metadata": {},
   "source": [
    "##### 일정 기준 이상의 상관계수 column 추출"
   ]
  },
  {
   "cell_type": "code",
   "execution_count": 91,
   "metadata": {},
   "outputs": [],
   "source": [
    "# correlation_matrix = data.corr().round(2)\n",
    "# Pass_Fail_corr = correlation_matrix['result']\n",
    "# PFC=pd.DataFrame(Pass_Fail_corr)\n",
    "\n",
    "# PFC_R = PFC.loc[abs(PFC.result) >= 0.05]\n",
    "# print(PFC_R)\n",
    "\n",
    "# corrData = data[PFC_R.index]\n",
    "# data = corrData\n",
    "# colCnt = data.shape[1]\n",
    "# print(colCnt)\n",
    "# X = data.iloc[:, :colCnt-1]\n",
    "# y = data.iloc[:, colCnt-1:]"
   ]
  },
  {
   "attachments": {},
   "cell_type": "markdown",
   "metadata": {},
   "source": [
    "##### 히트맵 그리기"
   ]
  },
  {
   "cell_type": "code",
   "execution_count": 92,
   "metadata": {},
   "outputs": [],
   "source": [
    "# df = data\n",
    "# columns = np.array(df.columns)\n",
    "# df_small = df[columns]\n",
    "# df_corr = df_small.corr()\n",
    "# plt.figure(figsize=(50, 50))\n",
    "# sns.heatmap(df_corr, annot=True, fmt=\".2f\", cmap=\"Blues\")"
   ]
  },
  {
   "cell_type": "markdown",
   "metadata": {},
   "source": [
    "##### Kfold"
   ]
  },
  {
   "cell_type": "code",
   "execution_count": 93,
   "metadata": {},
   "outputs": [],
   "source": [
    "# column_names = ['Diff_FirstBLOOD', 'Diff_FirstDRAGON', 'Diff_FirstHERALD',\n",
    "#        'Diff_Firsttower', 'dragonType', 'invadeKill', 'invadeDeath',\n",
    "#        'controlWARDPlaced', 'Kill_top', 'Kill_jgl', 'Kill_mid', 'Kill_ad',\n",
    "#        'Kill_sup', 'Death_top', 'Death_jgl', 'Death_mid', 'Death_ad',\n",
    "#        'Death_sup', 'Assist_top', 'Assist_jgl', 'Assist_mid', 'Assist_ad',\n",
    "#        'Assist_sup', 'LV_top', 'LV_jgl', colName, colName, 'LV_sup', 'CS_top',\n",
    "#        'CS_jgl', 'CS_mid', 'CS_ad', 'CS_sup', 'jglCS_top', 'jglCS_jgl',\n",
    "#        'jglCS_mid', 'jglCS_ad', 'jglCS_sup', 'GOLD_top', 'GOLD_jgl',\n",
    "#        'GOLD_mid', 'GOLD_ad', 'GOLD_sup', 'WARDkill', 'Inhibitor', 'TOWERkill',\n",
    "#        'WARDplaced']\n",
    "# model = rf\n",
    "# kf = KFold(n_splits=5, shuffle=True, random_state=42)\n",
    "# for train_index, test_index in kf.split(X):\n",
    "#     X_train, X_test = data.iloc[train_index][column_names], data.iloc[test_index][column_names]\n",
    "#     y_train, y_test = data.iloc[train_index]['result'], data.iloc[test_index]['result']\n",
    "#     model.fit(X_train, y_train)\n",
    "#     pre = model.predict(X_test)\n",
    "\n",
    "#     # score = accuracy_score(y_test, pre)\n",
    "#     print('accuracy_score : ', accuracy_score(y_test, pre))\n",
    "#     print('f1_score : ', f1_score(y_test, pre))\n",
    "#     tn, fp, fn, tp = confusion_matrix(y_test, pre).ravel()\n",
    "#     print('tn:', tn, ' fp:', fp, ' fn:', fn, ' tp:', tp)\n",
    "#     print()\n",
    "    \n",
    "\n",
    "# # scores = cross_val_score(model, data[column_names], data['result'], cv=kf)\n",
    "# # mean_score = np.mean(scores)\n",
    "# # print(f'평균 평가 점수: {mean_score}')"
   ]
  },
  {
   "cell_type": "code",
   "execution_count": 94,
   "metadata": {},
   "outputs": [
    {
     "name": "stdout",
     "output_type": "stream",
     "text": [
      "GRANDMASTER의 10분 데이터\n"
     ]
    },
    {
     "name": "stdout",
     "output_type": "stream",
     "text": [
      "RandomForest Train Accuracy :  79.71 %\n",
      "RandomForest Test Accuracy :  74.38 %\n",
      "LightGBM Train Accuracy :  78.68 %\n",
      "LightGBM Test Accuracy :  74.06 %\n",
      "CatBoost Train Accuracy :  77.28 %\n",
      "CatBoost Test Accuracy :  74.18 %\n",
      "ExtraTree Train Accuracy :  74.66 %\n",
      "ExtraTree Test Accuracy :  73.74 %\n"
     ]
    }
   ],
   "source": [
    "print(f'{tier}의 {min}분 데이터')\n",
    "modelList = [rf, lgbm, cat, et]\n",
    "# modelList = [knn, svc, nusvc, dct]\n",
    "modelNameList = [\"RandomForest\", \"LightGBM\", \"CatBoost\", \"ExtraTree\"]\n",
    "# modelNameList = [\"KNN\", \"SVC\", \"NuSVC\", \"DecisionTree\"]\n",
    "fieldnames = [\"Model\", \"accuracy_score\", \"F1_score\", \"TN\", \"FP\", \"FN\", \"TP\"]\n",
    "for i in range(4):\n",
    "    model = modelList[i]\n",
    "    X_train, X_test, y_train, y_test = train_test_split(X, y, test_size = 0.2, random_state=10) # 학습데이터와 평가데이터의 비율을 8:2 로 분할|\n",
    "    y_train = y_train.values.ravel()\n",
    "    model.fit(X_train, y_train)\n",
    "    pre_test = model.predict(X_test)\n",
    "    pre_train = model.predict(X_train)\n",
    "    tn, fp, fn, tp = confusion_matrix(y_test, pre_test).ravel()\n",
    "    if model == cat:\n",
    "        printModel = f\"CatBoost{model.get_params()}\"\n",
    "    else:\n",
    "        printModel = model\n",
    "    print(f\"{modelNameList[i]} Train Accuracy : \", round(accuracy_score(y_train, pre_train)*100, 2), \"%\")\n",
    "    print(f\"{modelNameList[i]} Test Accuracy : \", round(accuracy_score(y_test, pre_test)*100, 2), \"%\")\n",
    "    # print(f\"{modelNameList[i]} F1_score :\", round(f1_score(y_test, pre_test)*100, 2), \"%\")\n",
    "    # print(f\"{modelNameList[i]} ROC_AUC :\", round(roc_auc_score(y_test, pre_test)*100, 2), \"%\")\n",
    "    # print('tn:', tn, ' fp:', fp, ' fn:', fn, ' tp:', tp)\n",
    "\n",
    "    # 과적합 확인\n",
    "    # scores = cross_val_score(model, X, y, cv=3)\n",
    "    # print(\"교차 검증 평균 정확도:\", scores.mean())\n",
    "\n",
    "    # 결과 csv로 저장\n",
    "    fieldnames = [\"Tier\", \"Min\",\"TIME\", \"Model\", \"Train_Accuracy\", \"Test_Accuracy\", \"F1_score\", \"ROC_AUC\", \"TN\", \"FP\", \"FN\", \"TP\", \"Note\"]\n",
    "    result = {\"Tier\": tier,\n",
    "              \"Min\": min,\n",
    "              \"TIME\": datetime.now().strftime(\"%Y-%m-%d %H:%M:%S\"),\n",
    "              \"Model\": printModel, \n",
    "              \"Train_Accuracy\" : round(accuracy_score(y_train, pre_train)*100, 2),\n",
    "              \"Test_Accuracy\" : round(accuracy_score(y_test, pre_test)*100, 2), \n",
    "              \"F1_score\" : round(f1_score(y_test, pre_test)*100, 2),\n",
    "              \"ROC_AUC\" : round(roc_auc_score(y_test, pre_test)*100, 2),\n",
    "              \"TN\": tn,\n",
    "              \"FP\": fp,\n",
    "              \"FN\": fn,\n",
    "              \"TP\": tp,\n",
    "              \"Note\": 'solve ExtraTrees overfittng'}\n",
    "    with open(f'../Dataset/perMinuteDataset/result/currentAccuracy/{tier}.csv', 'a', newline='') as f:\n",
    "        w = csv.DictWriter(f, fieldnames=fieldnames)\n",
    "        if i == 0:\n",
    "            w.writeheader()\n",
    "        w.writerow(result)"
   ]
  },
  {
   "cell_type": "markdown",
   "metadata": {},
   "source": [
    "##### GridSearch"
   ]
  },
  {
   "cell_type": "code",
   "execution_count": 95,
   "metadata": {},
   "outputs": [],
   "source": [
    "# from sklearn.model_selection import GridSearchCV\n",
    "# params = {'max_leaf_nodes':[80, 100, 120, 150]\n",
    "#             }\n",
    "# lgbm_clf = RandomForestClassifier(max_features='sqrt')\n",
    "# grid_cv = GridSearchCV(lgbm_clf, param_grid = params, cv = 3, n_jobs = -1)\n",
    "# grid_cv.fit(X_train, y_train)\n",
    "\n",
    "# print('최적 하이퍼 파라미터: ', grid_cv.best_params_)\n",
    "# print('최고 예측 정확도: {:.4f}'.format(grid_cv.best_score_))\n",
    "\n",
    "# estimator = grid_cv.best_estimator_\n",
    "# pred = estimator.predict(X_test)\n",
    "# print('테스트 데이터 세트 정확도: {0:.4f}'.format(accuracy_score(y_test,pred)))"
   ]
  },
  {
   "cell_type": "markdown",
   "metadata": {},
   "source": [
    "##### 청파소나타 게임 10판으로 예측"
   ]
  },
  {
   "cell_type": "code",
   "execution_count": 96,
   "metadata": {},
   "outputs": [],
   "source": [
    "# 실제 결과 = 승승패패패승패패패\n",
    "# cps = pd.read_csv('cps.csv')\n",
    "# X_train, X_test, y_train, y_test = train_test_split(X, y, test_size = 0.2, random_state=10) # 학습데이터와 평가데이터의 비율을 8:2 로 분할|\n",
    "# cat.fit(X_train, y_train)\n",
    "# cat.predict(cps)"
   ]
  }
 ],
 "metadata": {
  "kernelspec": {
   "display_name": "Python 3",
   "language": "python",
   "name": "python3"
  },
  "language_info": {
   "codemirror_mode": {
    "name": "ipython",
    "version": 3
   },
   "file_extension": ".py",
   "mimetype": "text/x-python",
   "name": "python",
   "nbconvert_exporter": "python",
   "pygments_lexer": "ipython3",
   "version": "3.10.4"
  }
 },
 "nbformat": 4,
 "nbformat_minor": 2
}
