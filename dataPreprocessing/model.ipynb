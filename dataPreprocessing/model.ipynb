{
 "cells": [
  {
   "cell_type": "code",
   "execution_count": 10,
   "metadata": {},
   "outputs": [],
   "source": [
    "import pandas as pd\n",
    "from sklearn.model_selection import train_test_split\n",
    "import numpy as np\n",
    "from sklearn.ensemble import RandomForestClassifier\n",
    "from sklearn.ensemble import ExtraTreesClassifier\n",
    "from lightgbm import LGBMClassifier\n",
    "from sklearn.metrics import accuracy_score # 정확도 함수\n",
    "from catboost import CatBoostClassifier\n",
    "from sklearn.metrics import f1_score\n",
    "from sklearn.metrics import confusion_matrix\n"
   ]
  },
  {
   "cell_type": "code",
   "execution_count": 11,
   "metadata": {},
   "outputs": [
    {
     "name": "stdout",
     "output_type": "stream",
     "text": [
      "Chanllenger :  result\n",
      " 1    4836\n",
      "-1    4836\n",
      "Name: count, dtype: int64\n",
      "Grandmaster_10 :  result\n",
      " 1    6365\n",
      "-1    6365\n",
      "Name: count, dtype: int64\n",
      "Master :  result\n",
      " 1    8838\n",
      "-1    8838\n",
      "Name: count, dtype: int64\n",
      "Diamond :  result\n",
      " 1    24108\n",
      "-1    24108\n",
      "Name: count, dtype: int64\n",
      "Emerald :  result\n",
      " 1    18621\n",
      "-1    18621\n",
      "Name: count, dtype: int64\n",
      "Platinum :  result\n",
      " 1    19067\n",
      "-1    19067\n",
      "Name: count, dtype: int64\n",
      "Gold :  result\n",
      " 1    11332\n",
      "-1    11332\n",
      "Name: count, dtype: int64\n",
      "Silver :  result\n",
      " 1    13167\n",
      "-1    13167\n",
      "Name: count, dtype: int64\n",
      "Bronze :  result\n",
      " 1    19057\n",
      "-1    19057\n",
      "Name: count, dtype: int64\n",
      "Iron :  result\n",
      " 1    18524\n",
      "-1    18524\n",
      "Name: count, dtype: int64\n"
     ]
    }
   ],
   "source": [
    "win_10_Chanllenger = pd.read_csv('../Dataset/win_10/10_Chanllenger.csv')\n",
    "lose_10_Chanllenger = pd.read_csv('../Dataset/lose_10/10_Chanllenger_lose.csv')\n",
    "win_10_Chanllenger_ver2 = pd.read_csv('../Dataset/win_10/10_Chanllenger_ver2.csv')\n",
    "lose_10_Chanllenger_ver2 = pd.read_csv('../Dataset/lose_10/10_Chanllenger_ver2_lose.csv')\n",
    "Chanllenger1 = pd.concat([win_10_Chanllenger, lose_10_Chanllenger], ignore_index=True)\n",
    "Chanllenger2 = pd.concat([win_10_Chanllenger_ver2, lose_10_Chanllenger_ver2], ignore_index=True)\n",
    "Chanllenger = pd.concat([Chanllenger1, Chanllenger2], ignore_index=True)\n",
    "print('Chanllenger : ', Chanllenger['result'].value_counts())\n",
    "\n",
    "win_10_Grandmaster = pd.read_csv('../Dataset/win_10/10_Grandmaster.csv')\n",
    "lose_10_Grandmaster = pd.read_csv('../Dataset/lose_10/10_Grandmaster.csv')\n",
    "# Grandmaster = pd.read_csv('../Dataset/perMinuteDataset/10min/Grandmaster.csv')\n",
    "# lose_A_10_Grandmaster = pd.read_csv('Dataset/lose_10/A_10_Grandmaster.csv')\n",
    "# lose_KA_10_Grandmaster = pd.read_csv('Dataset/lose_10/KA_10_Grandmaster.csv')\n",
    "# lose_LvKA_10_Grandmaster = pd.read_csv('Dataset/lose_10/LvKA_10_Grandmaster.csv')\n",
    "Grandmaster_10 = pd.concat([win_10_Grandmaster, lose_10_Grandmaster], ignore_index=True)\n",
    "# Grandmaster_A_10 = pd.concat([win_10_Grandmaster, lose_A_10_Grandmaster], ignore_index=True)\n",
    "# Grandmaster_KA_10 = pd.concat([win_10_Grandmaster, lose_KA_10_Grandmaster], ignore_index=True)\n",
    "# Grandmaster_LvKA_10 = pd.concat([win_10_Grandmaster, lose_LvKA_10_Grandmaster], ignore_index=True)\n",
    "print('Grandmaster_10 : ', Grandmaster_10['result'].value_counts())\n",
    "\n",
    "# win_Grandmaster = pd.read_csv('Dataset/win/Grandmaster.csv')\n",
    "# lose_Grandmaster = pd.read_csv('Dataset/lose/Grandmaster_lose.csv')\n",
    "# Grandmaster = pd.concat([win_Grandmaster, lose_Grandmaster], ignore_index=True)\n",
    "# print('Grandmaster : ', Grandmaster['result'].value_counts())\n",
    "\n",
    "win_Master = pd.read_csv('../Dataset/win/Master.csv')\n",
    "lose_Master = pd.read_csv('../Dataset/lose/Master_lose.csv')\n",
    "Master = pd.concat([win_Master, lose_Master], ignore_index=True)\n",
    "print('Master : ', Master['result'].value_counts())\n",
    "\n",
    "win_Diamond_I = pd.read_csv('../Dataset/win/Diamond_I.csv')\n",
    "lose_Diamond_I = pd.read_csv('../Dataset/lose/Diamond_I_lose.csv')\n",
    "win_Diamond_II = pd.read_csv('../Dataset/win/Diamond_II.csv')\n",
    "lose_Diamond_II = pd.read_csv('../Dataset/lose/Diamond_II_lose.csv')\n",
    "win_Diamond_III = pd.read_csv('../Dataset/win/Diamond_III.csv')\n",
    "lose_Diamond_III = pd.read_csv('../Dataset/lose/Diamond_III_lose.csv')\n",
    "win_Diamond_IV = pd.read_csv('../Dataset/win/Diamond_IV.csv')\n",
    "lose_Diamond_IV = pd.read_csv('../Dataset/lose/Diamond_IV_lose.csv')\n",
    "Diamond = pd.concat([win_Diamond_I, win_Diamond_II, win_Diamond_III, win_Diamond_IV, lose_Diamond_I, lose_Diamond_II, lose_Diamond_III, lose_Diamond_IV], ignore_index=True)\n",
    "print('Diamond : ', Diamond['result'].value_counts())\n",
    "\n",
    "win_Emerald_I = pd.read_csv('../Dataset/win/Emerald_I.csv')\n",
    "lose_Emerald_I = pd.read_csv('../Dataset/lose/Emerald_I_lose.csv')\n",
    "win_Emerald_II = pd.read_csv('../Dataset/win/Emerald_II.csv')\n",
    "lose_Emerald_II = pd.read_csv('../Dataset/lose/Emerald_II_lose.csv')\n",
    "win_Emerald_III = pd.read_csv('../Dataset/win/Emerald_III.csv')\n",
    "lose_Emerald_III = pd.read_csv('../Dataset/lose/Emerald_III_lose.csv')\n",
    "win_Emerald_IV = pd.read_csv('../Dataset/win/Emerald_IV.csv')\n",
    "lose_Emerald_IV = pd.read_csv('../Dataset/lose/Emerald_IV_lose.csv')\n",
    "Emerald = pd.concat([win_Emerald_I, win_Emerald_II, win_Emerald_III, win_Emerald_IV, lose_Emerald_I, lose_Emerald_II, lose_Emerald_III, lose_Emerald_IV], ignore_index=True)\n",
    "print('Emerald : ', Emerald['result'].value_counts())\n",
    "\n",
    "win_Platinum_I = pd.read_csv('../Dataset/win/Platinum_I.csv')\n",
    "lose_Platinum_I = pd.read_csv('../Dataset/lose/Platinum_I_lose.csv')\n",
    "win_Platinum_II = pd.read_csv('../Dataset/win/Platinum_II.csv')\n",
    "lose_Platinum_II = pd.read_csv('../Dataset/lose/Platinum_II_lose.csv')\n",
    "win_Platinum_III = pd.read_csv('../Dataset/win/Platinum_III.csv')\n",
    "lose_Platinum_III = pd.read_csv('../Dataset/lose/Platinum_III_lose.csv')\n",
    "win_Platinum_IV = pd.read_csv('../Dataset/win/Platinum_IV.csv')\n",
    "lose_Platinum_IV = pd.read_csv('../Dataset/lose/Platinum_IV_lose.csv')\n",
    "Platinum = pd.concat([win_Platinum_I, win_Platinum_II, win_Platinum_III, win_Platinum_IV, lose_Platinum_I, lose_Platinum_II, lose_Platinum_III, lose_Platinum_IV], ignore_index=True)\n",
    "print('Platinum : ', Platinum['result'].value_counts())\n",
    "\n",
    "win_Gold_I = pd.read_csv('../Dataset/win/Gold_I.csv')\n",
    "lose_Gold_I = pd.read_csv('../Dataset/lose/Gold_I_lose.csv')\n",
    "win_Gold_II = pd.read_csv('../Dataset/win/Gold_II.csv')\n",
    "lose_Gold_II = pd.read_csv('../Dataset/lose/Gold_II_lose.csv')\n",
    "win_Gold_III= pd.read_csv('../Dataset/win/Gold_III.csv')\n",
    "lose_Gold_III = pd.read_csv('../Dataset/lose/Gold_III_lose.csv')\n",
    "win_Gold_IV = pd.read_csv('../Dataset/win/Gold_IV.csv')\n",
    "lose_Gold_IV = pd.read_csv('../Dataset/lose/Gold_IV_lose.csv')\n",
    "Gold = pd.concat([win_Gold_I, win_Gold_II, win_Gold_III, win_Gold_IV, lose_Gold_I, lose_Gold_II, lose_Gold_III, lose_Gold_IV], ignore_index=True)\n",
    "print('Gold : ', Gold['result'].value_counts())\n",
    "\n",
    "\n",
    "win_Silver_I = pd.read_csv('../Dataset/win/Silver_I.csv')\n",
    "lose_Silver_I = pd.read_csv('../Dataset/lose/Silver_I_lose.csv')\n",
    "win_Silver_II = pd.read_csv('../Dataset/win/Silver_II.csv')\n",
    "lose_Silver_II = pd.read_csv('../Dataset/lose/Silver_II_lose.csv')\n",
    "win_Silver_III = pd.read_csv('../Dataset/win/Silver_III.csv')\n",
    "lose_Silver_III = pd.read_csv('../Dataset/lose/Silver_III_lose.csv')\n",
    "win_Silver_IV = pd.read_csv('../Dataset/win/Silver_IV.csv')\n",
    "lose_Silver_IV = pd.read_csv('../Dataset/lose/Silver_IV_lose.csv')\n",
    "Silver = pd.concat([win_Silver_I, win_Silver_II, win_Silver_III, win_Silver_IV, lose_Silver_I, lose_Silver_II, lose_Silver_III, lose_Silver_IV], ignore_index=True)\n",
    "print('Silver : ', Silver['result'].value_counts())\n",
    "\n",
    "win_Bronze_I = pd.read_csv('../Dataset/win/Bronze_I.csv')\n",
    "lose_Bronze_I = pd.read_csv('../Dataset/lose/Bronze_I_lose.csv')\n",
    "win_Bronze_II = pd.read_csv('../Dataset/win/Bronze_II.csv')\n",
    "lose_Bronze_II = pd.read_csv('../Dataset/lose/Bronze_II_lose.csv')\n",
    "win_Bronze_III = pd.read_csv('../Dataset/win/Bronze_III.csv')\n",
    "lose_Bronze_III = pd.read_csv('../Dataset/lose/Bronze_III_lose.csv')\n",
    "win_Bronze_IV = pd.read_csv('../Dataset/win/Bronze_IV.csv')\n",
    "lose_Bronze_IV = pd.read_csv('../Dataset/lose/Bronze_IV_lose.csv')\n",
    "Bronze = pd.concat([win_Bronze_I, win_Bronze_II, win_Bronze_III, win_Bronze_IV, lose_Bronze_I, lose_Bronze_II, lose_Bronze_III, lose_Bronze_IV], ignore_index=True)\n",
    "print('Bronze : ', Bronze['result'].value_counts())\n",
    "\n",
    "win_Iron_I = pd.read_csv('../Dataset/win/Iron_I.csv')\n",
    "lose_Iron_I = pd.read_csv('../Dataset/lose/Iron_I_lose.csv')\n",
    "win_Iron_II = pd.read_csv('../Dataset/win/Iron_II.csv')\n",
    "lose_Iron_II = pd.read_csv('../Dataset/lose/Iron_II_lose.csv')\n",
    "win_Iron_III = pd.read_csv('../Dataset/win/Iron_III.csv')\n",
    "lose_Iron_III = pd.read_csv('../Dataset/lose/Iron_III_lose.csv')\n",
    "win_Iron_IV = pd.read_csv('../Dataset/win/Iron_IV.csv')\n",
    "lose_Iron_IV = pd.read_csv('../Dataset/lose/Iron_IV_lose.csv')\n",
    "Iron = pd.concat([win_Iron_I, win_Iron_II, win_Iron_III, win_Iron_IV, lose_Iron_I, lose_Iron_II, lose_Iron_III, lose_Iron_IV], ignore_index=True)\n",
    "print('Iron : ', Iron['result'].value_counts())\n"
   ]
  },
  {
   "cell_type": "code",
   "execution_count": 12,
   "metadata": {},
   "outputs": [],
   "source": [
    "data = Grandmaster_10"
   ]
  },
  {
   "cell_type": "code",
   "execution_count": 13,
   "metadata": {},
   "outputs": [],
   "source": [
    "rf = RandomForestClassifier(n_estimators=100, max_depth=10, random_state = 10)\n",
    "lgbm = LGBMClassifier(verbosity=0)\n",
    "cat = CatBoostClassifier(iterations=2, depth=2, learning_rate=1, verbose=0)\n",
    "et = ExtraTreesClassifier(n_estimators=100, random_state = 10)\n"
   ]
  },
  {
   "cell_type": "code",
   "execution_count": 14,
   "metadata": {},
   "outputs": [],
   "source": [
    "data = data.drop(['matchId', 'queueId', 'LOSE_controlWARDPlaced', 'WIN_controlWARDPlaced'], axis=1)"
   ]
  },
  {
   "cell_type": "code",
   "execution_count": 18,
   "metadata": {},
   "outputs": [
    {
     "data": {
      "text/plain": [
       "(12730, 32)"
      ]
     },
     "execution_count": 18,
     "metadata": {},
     "output_type": "execute_result"
    }
   ],
   "source": [
    "data.shape"
   ]
  },
  {
   "cell_type": "code",
   "execution_count": 16,
   "metadata": {},
   "outputs": [
    {
     "name": "stdout",
     "output_type": "stream",
     "text": [
      "32\n"
     ]
    }
   ],
   "source": [
    "colCnt = data.shape[1]\n",
    "print(colCnt)"
   ]
  },
  {
   "cell_type": "code",
   "execution_count": 17,
   "metadata": {},
   "outputs": [
    {
     "name": "stdout",
     "output_type": "stream",
     "text": [
      "RandomForest : 99.21 %\n",
      "RandomForest f1 : 99.21 %\n",
      "tn: 1265  fp: 8  fn: 12  tp: 1261\n",
      "lightGBM : 99.84 %\n",
      "lightGBM f1 : 99.84 %\n",
      "tn: 1273  fp: 0  fn: 4  tp: 1269\n",
      "CatBoost : 68.15 %\n",
      "CatBoost f1 : 66.39 %\n",
      "tn: 934  fp: 339  fn: 472  tp: 801\n",
      "ExtraTrees : 98.78 %\n",
      "ExtraTrees f1 : 98.78 %\n",
      "tn: 1263  fp: 10  fn: 21  tp: 1252\n"
     ]
    }
   ],
   "source": [
    "X = data.iloc[:, :colCnt-1]\n",
    "y = data.iloc[:, colCnt-1:]\n",
    "# # features/target, train/test dataset 분리\n",
    "# train_x, test_x, train_y, test_y = train_test_split(data[features], data['result'], test_size=0.25, random_state=32) # 학습데이터와 평가데이터의 비율을 8:2 로 분할|\n",
    "train_x, test_x, train_y, test_y = train_test_split(X, y, test_size = 0.2) # 학습데이터와 평가데이터의 비율을 8:2 로 분할|\n",
    "train_y = train_y.values.ravel()\n",
    "rf.fit(train_x, train_y)\n",
    "rf_pre = rf.predict(test_x)\n",
    "tn, fp, fn, tp = confusion_matrix(test_y, rf_pre).ravel()\n",
    "print(\"RandomForest :\", round(accuracy_score(test_y, rf_pre)*100, 2), \"%\")\n",
    "print(\"RandomForest f1 :\", round(f1_score(test_y, rf_pre)*100, 2), \"%\")\n",
    "print('tn:', tn, ' fp:', fp, ' fn:', fn, ' tp:', tp)\n",
    "lgbm.fit(train_x, train_y)\n",
    "lgbm_pre = lgbm.predict(test_x)\n",
    "tn, fp, fn, tp = confusion_matrix(test_y, lgbm_pre).ravel()\n",
    "print(\"lightGBM :\", round(accuracy_score(test_y, lgbm_pre)*100, 2), \"%\")\n",
    "print(\"lightGBM f1 :\", round(f1_score(test_y, lgbm_pre)*100, 2), \"%\")\n",
    "print('tn:', tn, ' fp:', fp, ' fn:', fn, ' tp:', tp)\n",
    "cat.fit(train_x, train_y)\n",
    "cat_pre = cat.predict(test_x)\n",
    "tn, fp, fn, tp = confusion_matrix(test_y, cat_pre).ravel()\n",
    "print(\"CatBoost :\", round(accuracy_score(test_y, cat_pre)*100, 2), \"%\")\n",
    "print(\"CatBoost f1 :\", round(f1_score(test_y, cat_pre)*100, 2), \"%\")\n",
    "print('tn:', tn, ' fp:', fp, ' fn:', fn, ' tp:', tp)\n",
    "et = ExtraTreesClassifier(n_estimators=100, random_state = 10)\n",
    "et.fit(train_x, train_y)\n",
    "et_pre = et.predict(test_x)\n",
    "tn, fp, fn, tp = confusion_matrix(test_y, et_pre).ravel()\n",
    "print(\"ExtraTrees :\", round(accuracy_score(test_y, et_pre)*100, 2), \"%\")\n",
    "print(\"ExtraTrees f1 :\", round(f1_score(test_y, et_pre)*100, 2), \"%\")\n",
    "print('tn:', tn, ' fp:', fp, ' fn:', fn, ' tp:', tp)"
   ]
  }
 ],
 "metadata": {
  "kernelspec": {
   "display_name": "Python 3",
   "language": "python",
   "name": "python3"
  },
  "language_info": {
   "codemirror_mode": {
    "name": "ipython",
    "version": 3
   },
   "file_extension": ".py",
   "mimetype": "text/x-python",
   "name": "python",
   "nbconvert_exporter": "python",
   "pygments_lexer": "ipython3",
   "version": "3.10.4"
  }
 },
 "nbformat": 4,
 "nbformat_minor": 2
}
